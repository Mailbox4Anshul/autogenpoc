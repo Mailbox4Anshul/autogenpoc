import os

# Define the API key
api_key = "your-openai-api-key"

# Define the filename
file_name = ".env"

# Check if the file already exists
if os.path.exists(file_name):
    print("The file already exists. Be cautious not to overwrite important data.")
else:
    # Write the API key to the file
    with open(file_name, 'w') as file:
        file.write(f"OPENAI_API_KEY={api_key}\n")
    print(f"File '{file_name}' created with the API key.")
